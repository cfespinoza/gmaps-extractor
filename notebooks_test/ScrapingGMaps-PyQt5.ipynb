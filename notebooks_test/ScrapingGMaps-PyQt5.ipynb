{
 "cells": [
  {
   "cell_type": "code",
   "execution_count": 2,
   "metadata": {},
   "outputs": [],
   "source": [
    "import sys\n",
    "# from PyQt5 import QtCore, QtWidgets, QtWebEngineWidgets\n",
    "from lxml import html as htmlRenderer\n",
    "import requests\n",
    "import json\n",
    "from datetime import date"
   ]
  },
  {
   "cell_type": "code",
   "execution_count": 3,
   "metadata": {},
   "outputs": [],
   "source": [
    "def render(source_url):\n",
    "    \"\"\"Fully render HTML, JavaScript and all.\"\"\"\n",
    "\n",
    "    import sys\n",
    "    from PySide2.QtWidgets import QApplication\n",
    "    #     from PyQt5.QtWidgets import QApplication\n",
    "    from PySide2.QtCore import QUrl\n",
    "    #     from PyQt5.QtCore import QUrl\n",
    "    from PySide2.QtWebEngineWidgets import QWebEngineView\n",
    "    #     from PyQt5.QtWebEngineWidgets import QWebEngineView\n",
    "\n",
    "    class Render(QWebEngineView):\n",
    "        def __init__(self, url):\n",
    "            self.html = None\n",
    "            self.app = QApplication(sys.argv)\n",
    "            QWebEngineView.__init__(self)\n",
    "            self.loadFinished.connect(self._loadFinished)\n",
    "            #self.setHtml(html)\n",
    "            self.load(QUrl(url))\n",
    "            self.app.exec_()\n",
    "\n",
    "        def _loadFinished(self, result):\n",
    "            # This is an async call, you need to wait for this\n",
    "            # to be called before closing the app\n",
    "            self.page().toHtml(self._callable)\n",
    "\n",
    "        def _callable(self, data):\n",
    "            self.html = data\n",
    "            # Data has been stored, it's safe to quit the app\n",
    "            self.app.quit()\n",
    "\n",
    "    return Render(source_url).html"
   ]
  },
  {
   "cell_type": "code",
   "execution_count": null,
   "metadata": {},
   "outputs": [
    {
     "ename": "AttributeError",
     "evalue": "'PySide2.QtWebEngineWidgets.QWebEnginePage' object has no attribute 'toHtml'",
     "output_type": "error",
     "traceback": [
      "\u001b[0;31m---------------------------------------------------------------------------\u001b[0m",
      "\u001b[0;31mAttributeError\u001b[0m                            Traceback (most recent call last)",
      "\u001b[0;32m<ipython-input-3-6570d42332b2>\u001b[0m in \u001b[0;36m_loadFinished\u001b[0;34m(self, result)\u001b[0m\n\u001b[1;32m     23\u001b[0m             \u001b[0;31m# This is an async call, you need to wait for this\u001b[0m\u001b[0;34m\u001b[0m\u001b[0;34m\u001b[0m\u001b[0;34m\u001b[0m\u001b[0m\n\u001b[1;32m     24\u001b[0m             \u001b[0;31m# to be called before closing the app\u001b[0m\u001b[0;34m\u001b[0m\u001b[0;34m\u001b[0m\u001b[0;34m\u001b[0m\u001b[0m\n\u001b[0;32m---> 25\u001b[0;31m             \u001b[0mself\u001b[0m\u001b[0;34m.\u001b[0m\u001b[0mpage\u001b[0m\u001b[0;34m(\u001b[0m\u001b[0;34m)\u001b[0m\u001b[0;34m.\u001b[0m\u001b[0mtoHtml\u001b[0m\u001b[0;34m(\u001b[0m\u001b[0mself\u001b[0m\u001b[0;34m.\u001b[0m\u001b[0m_callable\u001b[0m\u001b[0;34m)\u001b[0m\u001b[0;34m\u001b[0m\u001b[0;34m\u001b[0m\u001b[0m\n\u001b[0m\u001b[1;32m     26\u001b[0m \u001b[0;34m\u001b[0m\u001b[0m\n\u001b[1;32m     27\u001b[0m         \u001b[0;32mdef\u001b[0m \u001b[0m_callable\u001b[0m\u001b[0;34m(\u001b[0m\u001b[0mself\u001b[0m\u001b[0;34m,\u001b[0m \u001b[0mdata\u001b[0m\u001b[0;34m)\u001b[0m\u001b[0;34m:\u001b[0m\u001b[0;34m\u001b[0m\u001b[0;34m\u001b[0m\u001b[0m\n",
      "\u001b[0;31mAttributeError\u001b[0m: 'PySide2.QtWebEngineWidgets.QWebEnginePage' object has no attribute 'toHtml'"
     ]
    }
   ],
   "source": [
    "url=\"https://www.google.com/maps/search/Restaurants/28047\"\n",
    "renderUrl = render(url)\n",
    "renderedPage = htmlRenderer.fromstring(renderUrl)"
   ]
  },
  {
   "cell_type": "code",
   "execution_count": null,
   "metadata": {},
   "outputs": [],
   "source": [
    "auxLinks = renderedPage.xpath(\"//a/@href\")"
   ]
  },
  {
   "cell_type": "code",
   "execution_count": null,
   "metadata": {},
   "outputs": [],
   "source": [
    "# obtener links, cuidado que alguno ya empieza por http...\n",
    "finalLinks = list(dict.fromkeys([\"https://www.abc.es{}\".format(link) for link in auxLinks if link.endswith(\"noticia.html\")]))"
   ]
  },
  {
   "cell_type": "code",
   "execution_count": null,
   "metadata": {
    "scrolled": true
   },
   "outputs": [],
   "source": [
    "finalLinks"
   ]
  },
  {
   "cell_type": "code",
   "execution_count": null,
   "metadata": {},
   "outputs": [],
   "source": [
    "# div_id = comments-container"
   ]
  }
 ],
 "metadata": {
  "kernelspec": {
   "display_name": "Python 3",
   "language": "python",
   "name": "python3"
  },
  "language_info": {
   "codemirror_mode": {
    "name": "ipython",
    "version": 3
   },
   "file_extension": ".py",
   "mimetype": "text/x-python",
   "name": "python",
   "nbconvert_exporter": "python",
   "pygments_lexer": "ipython3",
   "version": "3.6.8"
  }
 },
 "nbformat": 4,
 "nbformat_minor": 1
}
