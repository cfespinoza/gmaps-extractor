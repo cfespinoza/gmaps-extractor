{
 "cells": [
  {
   "cell_type": "code",
   "execution_count": 23,
   "metadata": {},
   "outputs": [],
   "source": [
    "from bs4 import BeautifulSoup\n",
    "from selenium import webdriver\n",
    "from lxml import etree"
   ]
  },
  {
   "cell_type": "code",
   "execution_count": 11,
   "metadata": {},
   "outputs": [
    {
     "name": "stderr",
     "output_type": "stream",
     "text": [
      "/home/cflores/cflores_workspace/cflores_venv/lib/python3.6/site-packages/ipykernel_launcher.py:19: DeprecationWarning: use options instead of chrome_options\n"
     ]
    }
   ],
   "source": [
    "\n",
    "# url = \"https://www.google.com/maps/search/Restaurants/28047/\"\n",
    "url = \"https://www.google.com/maps/search/Restaurants/@40.3995807,-3.771754,15z\"\n",
    "chromeOptions = webdriver.ChromeOptions()\n",
    "chromeOptions.add_experimental_option(\"prefs\", {\"profile.managed_default_content_settings.\": 2})\n",
    "chromeOptions.add_argument(\"--no-sandbox\")\n",
    "chromeOptions.add_argument(\"--disable-setuid-sandbox\")\n",
    "\n",
    "chromeOptions.add_argument(\"--remote-debugging-port=9222\")  # this\n",
    "\n",
    "chromeOptions.add_argument(\"--disable-dev-shm-using\")\n",
    "chromeOptions.add_argument(\"--disable-extensions\")\n",
    "chromeOptions.add_argument(\"--disable-gpu\")\n",
    "chromeOptions.add_argument(\"start-maximized\")\n",
    "chromeOptions.add_argument(\"disable-infobars\")\n",
    "chromeOptions.add_argument(\"--headless\")\n",
    "# initialize the driver\n",
    "driver = webdriver.Chrome(\n",
    "    executable_path=\"/home/cflores/cflores_workspace/google_maps_exractor/notebooks_test/chromedriver\",\n",
    "    chrome_options=chromeOptions)\n",
    "driver.implicitly_wait(30)\n",
    "driver.get(url)\n",
    "driver.implicitly_wait(10)\n"
   ]
  },
  {
   "cell_type": "code",
   "execution_count": null,
   "metadata": {},
   "outputs": [],
   "source": []
  },
  {
   "cell_type": "code",
   "execution_count": 17,
   "metadata": {
    "scrolled": false
   },
   "outputs": [],
   "source": [
    "\n",
    "attrs_lateral_restaurant_list = {\n",
    "    'class': 'section-result',\n",
    "    'role': 'listitem'}\n",
    "attrs_h3_title = {\n",
    "    'class': 'section-result-title'\n",
    "}\n",
    "soup_level = BeautifulSoup(driver.page_source, 'lxml')\n",
    "restaurants_el = []\n",
    "for restaurant in soup_level.find_all('div', attrs=attrs_lateral_restaurant_list):\n",
    "    restaurants_el.append(restaurant)\n"
   ]
  },
  {
   "cell_type": "code",
   "execution_count": 28,
   "metadata": {
    "scrolled": false
   },
   "outputs": [
    {
     "name": "stdout",
     "output_type": "stream",
     "text": [
      "<div class=\"section-result\" data-result-index=\"1\" data-section-id=\"or:1\" jsaction=\"pane.resultSection.click;keydown:pane.resultSection.keydown;mouseover:pane.resultSection.in;mouseout:pane.resultSection.out;focus:pane.resultSection.focusin;blur:pane.resultSection.focusout\" jsan=\"t-nqWj9GyoaSo,7.section-result,0.data-result-index,0.data-section-id,0.ved,0.role,0.tabindex,22.jsaction\" jstcache=\"350\" role=\"listitem\" tabindex=\"0\" ved=\"1i:4,t:12690,e:3,r:1,p:9TtUXpvHHeydlwTt-5uQDg:1\"> <div class=\"section-result-content\"> <div class=\"section-result-text-content\"> <div class=\"section-result-header-container\"> <div class=\"section-result-header\" jsan=\"7.section-result-header\" jstcache=\"121\"> <div class=\"section-result-partial-result-justification\" jstcache=\"122\" style=\"display:none\"> <span jstcache=\"123\" style=\"display:none\">\"<span jstcache=\"124\"></span>\"</span> </div> <div class=\"section-result-title-container\" jsan=\"7.section-result-title-container\" jstcache=\"125\"><h3 class=\"section-result-title\"><span jstcache=\"126\">Restaurante Guang Zhou</span><button jstcache=\"127\" style=\"display:none\"></button></h3><span class=\"ad-badge\" jstcache=\"128\" style=\"display:none\">Anuncio</span><span class=\"ad-badge\" jstcache=\"129\" style=\"display:none\">Anuncio</span><span jstcache=\"130\"><span jstcache=\"131\"><span aria-label=\" 4,3 estrellas \" class=\"section-result-rating\" jstcache=\"266\"><span aria-hidden=\"true\" class=\"cards-rating-score\" jsan=\"7.cards-rating-score,0.aria-hidden\" jstcache=\"269\">4,3</span><ol class=\"cards-rating-stars\" jstcache=\"270\"><li class=\"cards-rating-star\" jsinstance=\"0\" jstcache=\"271\"></li><li class=\"cards-rating-star\" jsinstance=\"1\" jstcache=\"271\"></li><li class=\"cards-rating-star\" jsinstance=\"2\" jstcache=\"271\"></li><li class=\"cards-rating-star\" jsinstance=\"*3\" jstcache=\"271\"></li><li class=\"cards-rating-star cards-rating-star-half\" jstcache=\"272\"></li><li class=\"cards-rating-star cards-rating-star-empty\" jstcache=\"273\" style=\"display:none\"></li></ol></span><span aria-label=\" 862 reseñas \" class=\"section-result-num-ratings\" jsan=\"7.section-result-num-ratings,0.aria-label\" jstcache=\"267\">(862)</span></span><span jstcache=\"132\" style=\"display:none\"></span></span></div> </div> <div jstcache=\"133\"> <div class=\"section-result-hotel-price\" jsan=\"7.section-result-hotel-price\" jstcache=\"309\" style=\"display:none\"></div> <div class=\"section-result-hotel-price\" jstcache=\"310\" style=\"display:none\"> <div jstcache=\"311\"></div> <div aria-hidden=\"true\" class=\"section-hotel-value-price\" jsan=\"7.section-hotel-value-price,0.aria-hidden\" jstcache=\"312\"></div> </div> <div class=\"section-result-hotel-price\" jstcache=\"313\" style=\"display:none\"> <div class=\"section-result-offer-price\" jsan=\"7.section-result-offer-price\" jstcache=\"314\"></div> </div> </div> <div jstcache=\"134\" style=\"display:none\"></div> </div> <div class=\"section-result-details-container\" jsan=\"7.section-result-details-container\" jstcache=\"135\"> <span class=\"ad-badge\" jstcache=\"136\" style=\"display:none\">Anuncio</span> <span aria-label=\"Precio: Asequible\" class=\"section-result-cost\" jsan=\"7.section-result-cost,0.aria-label,0.role\" jstcache=\"137\" role=\"text\">€</span> <span aria-hidden=\"true\" class=\"section-result-separator\" jstcache=\"138\">·</span> <span class=\"section-result-details\" jsan=\"7.section-result-details\" jstcache=\"139\">China</span> <span aria-hidden=\"true\" class=\"section-result-separator\" jstcache=\"140\">·</span> <span class=\"section-result-location\" jsan=\"7.section-result-location\" jstcache=\"141\">Calle de Guareña, 10</span> </div> <div jstcache=\"142\" style=\"display:none\"> <span class=\"ad-badge\">Anuncio</span> </div> <div class=\"section-result-closed\" jsan=\"7.section-result-closed\" jstcache=\"143\"> <span jsan=\"t-jxwJLnwL_wQ,5.display\" jstcache=\"144\" style=\"display:none\"></span> </div> <div class=\"section-result-descriptions GLOBAL__gm2-body-2\" jsan=\"7.section-result-descriptions,7.GLOBAL__gm2-body-2\" jstcache=\"145\" style=\"display:none\"> <div class=\"section-result-description\" jstcache=\"146\" style=\"display:none\"> <span jstcache=\"147\"></span> </div> </div> <div class=\"section-result-opening-hours\" jsan=\"7.section-result-opening-hours\" jstcache=\"148\">Abierto hasta la(s) 24:00</div> <jsl jstcache=\"149\"> <div jstcache=\"189\" style=\"display:none\"></div> </jsl> <div class=\"section-hotel-offer-info\" jstcache=\"150\" style=\"display:none\"></div> <div class=\"section-hotel-offer-info\" jstcache=\"151\" style=\"display:none\"></div> <div jstcache=\"152\" style=\"display:none\"></div> <div class=\"section-result-details-container\" jstcache=\"153\" style=\"display:none\"> <div class=\"section-result-regular-gas-station\"></div> <span class=\"section-result-regular-gas-price\" jsan=\"7.section-result-regular-gas-price\" jstcache=\"154\"></span> <span>/</span> <span jstcache=\"155\"></span> <span jstcache=\"156\" style=\"display:none\"> *</span> </div> <div class=\"section-result-details-container\" jstcache=\"157\" style=\"display:none\"> <div class=\"section-result-bikeshare-station\"></div> <span jstcache=\"158\"></span> </div> </div> <div class=\"section-image-container\" jsan=\"7.section-image-container,t-A6L80xI73mY\" jstcache=\"159\"> <div class=\"section-result-image\" jsan=\"7.section-result-image,5.background-image,0.ved\" jstcache=\"252\" style=\"background-image:url(https://lh5.googleusercontent.com/p/AF1QipNfRv9FxOQL-jRQfGHEskObzJOZ0gEcq4q1wdOF=w80-h92-p-k-no)\" ved=\"1i:5,t:25178,e:0,p:9TtUXpvHHeydlwTt-5uQDg:1\"></div> <div jstcache=\"253\" style=\"display:none\"></div> </div> <div jstcache=\"160\" style=\"display:none\"></div> </div> <div class=\"section-result-subsection-container\" jstcache=\"161\"></div> <div jstcache=\"162\" style=\"display:none\"></div> <div jstcache=\"163\" style=\"display:none\"></div> <div jstcache=\"164\" style=\"display:none\"></div> <div jstcache=\"165\" style=\"display:none\"></div> </div>\n"
     ]
    },
    {
     "ename": "TypeError",
     "evalue": "'NoneType' object is not callable",
     "output_type": "error",
     "traceback": [
      "\u001b[0;31m---------------------------------------------------------------------------\u001b[0m",
      "\u001b[0;31mTypeError\u001b[0m                                 Traceback (most recent call last)",
      "\u001b[0;32m<ipython-input-28-653820ec8021>\u001b[0m in \u001b[0;36m<module>\u001b[0;34m\u001b[0m\n\u001b[1;32m      2\u001b[0m \u001b[0;32mfor\u001b[0m \u001b[0mres\u001b[0m \u001b[0;32min\u001b[0m \u001b[0mrestaurants_el\u001b[0m\u001b[0;34m:\u001b[0m\u001b[0;34m\u001b[0m\u001b[0;34m\u001b[0m\u001b[0m\n\u001b[1;32m      3\u001b[0m     \u001b[0mprint\u001b[0m\u001b[0;34m(\u001b[0m\u001b[0mres\u001b[0m\u001b[0;34m)\u001b[0m\u001b[0;34m\u001b[0m\u001b[0;34m\u001b[0m\u001b[0m\n\u001b[0;32m----> 4\u001b[0;31m     \u001b[0mtree\u001b[0m \u001b[0;34m=\u001b[0m \u001b[0metree\u001b[0m\u001b[0;34m.\u001b[0m\u001b[0mparse\u001b[0m\u001b[0;34m(\u001b[0m\u001b[0mres\u001b[0m\u001b[0;34m,\u001b[0m \u001b[0mhtmlparser\u001b[0m\u001b[0;34m)\u001b[0m\u001b[0;34m\u001b[0m\u001b[0;34m\u001b[0m\u001b[0m\n\u001b[0m\u001b[1;32m      5\u001b[0m     \u001b[0mel_val\u001b[0m \u001b[0;34m=\u001b[0m \u001b[0mtree\u001b[0m\u001b[0;34m.\u001b[0m\u001b[0mxpath\u001b[0m\u001b[0;34m(\u001b[0m\u001b[0;34m\"/h3[class='section-result-title']/text\"\u001b[0m\u001b[0;34m)\u001b[0m\u001b[0;34m\u001b[0m\u001b[0;34m\u001b[0m\u001b[0m\n\u001b[1;32m      6\u001b[0m     \u001b[0mprint\u001b[0m\u001b[0;34m(\u001b[0m\u001b[0mel_val\u001b[0m\u001b[0;34m)\u001b[0m\u001b[0;34m\u001b[0m\u001b[0;34m\u001b[0m\u001b[0m\n",
      "\u001b[0;32msrc/lxml/etree.pyx\u001b[0m in \u001b[0;36mlxml.etree.parse\u001b[0;34m()\u001b[0m\n",
      "\u001b[0;32msrc/lxml/parser.pxi\u001b[0m in \u001b[0;36mlxml.etree._parseDocument\u001b[0;34m()\u001b[0m\n",
      "\u001b[0;31mTypeError\u001b[0m: 'NoneType' object is not callable"
     ]
    }
   ],
   "source": [
    "\n",
    "htmlparser = etree.HTMLParser()\n",
    "for res in restaurants_el:\n",
    "    print(res)\n",
    "    tree = etree.parse(res, htmlparser)\n",
    "    el_val = tree.xpath(\"/h3[class='section-result-title']/text\")\n",
    "    print(el_val)"
   ]
  },
  {
   "cell_type": "code",
   "execution_count": 22,
   "metadata": {},
   "outputs": [
    {
     "name": "stdout",
     "output_type": "stream",
     "text": [
      "------------------------------\n",
      "      \"\"  Restaurante Guang ZhouAnuncioAnuncio4,3(862)               Anuncio € · China · Calle de Guareña, 10   Anuncio          Abierto hasta la(s) 24:00          /   *                  \n",
      "------------------------------\n",
      "------------------------------\n",
      "      \"\"  Restaurante Bahía De VigoAnuncioAnuncio4,1(432)               Anuncio € · Cocina gallega · Calle de Maqueda, 26   Anuncio       Cocina gallega en local sin artificios   Abierto hasta la(s) 24:00          /   *                  \n",
      "------------------------------\n",
      "------------------------------\n",
      "      \"\"  Bar-Cafeteria Bull's EyeAnuncioAnuncio4,5(98)               Anuncio € · Restaurante · Calle Illescas, 215   Anuncio          Abierto hasta la(s) 2:00          /   *                  \n",
      "------------------------------\n",
      "------------------------------\n",
      "      \"\"  El Mercado De MontizAnuncioAnuncio4,1(1.142)               Anuncio € · Restaurante · Calle Sepúlveda, 216   Anuncio          Abierto hasta la(s) 24:00          /   *                  \n",
      "------------------------------\n",
      "------------------------------\n",
      "      \"\"  Pizza Bar El GuachoAnuncioAnuncio4,9(37)               Anuncio  · Pizza para llevar · Calle de Maqueda, 138   Anuncio          Abierto hasta la(s) 24:00          /   *                  \n",
      "------------------------------\n",
      "------------------------------\n",
      "      \"\"  Restaurante San MatíasAnuncioAnuncio4,0(969)               Anuncio €€ · Restaurante · Calle Illescas, 57   Anuncio          Abierto hasta la(s) 23:30          /   *                  \n",
      "------------------------------\n",
      "------------------------------\n",
      "      \"\"  Casa CandiAnuncioAnuncio4,3(64)               Anuncio € · Restaurante ·    Anuncio          Cierra a las 22:30          /   *                  \n",
      "------------------------------\n",
      "------------------------------\n",
      "      \"\"  El Bocadito LatinoAnuncioAnuncio4,4(38)               Anuncio  · Restaurante · Calle de Latina, 15   Anuncio          Abierto hasta la(s) 24:00          /   *                  \n",
      "------------------------------\n",
      "------------------------------\n",
      "      \"\"  Restaurante Parrilla VukataAnuncioAnuncio4,4(491)               Anuncio € · Barbacoa · Calle de Maqueda, 138   Anuncio          Abierto hasta la(s) 24:00          /   *                  \n",
      "------------------------------\n",
      "------------------------------\n",
      "      \"\"  Aynaelda - Arrocería en MadridAnuncioAnuncio4,1(2.636)               Anuncio €€ · Arrocería · Calle los Yébenes, 38   Anuncio       Arroces, platos y vinos del Mediterráneo   Abierto hasta la(s) 24:00          /   *                  \n",
      "------------------------------\n",
      "------------------------------\n",
      "      \"\"  Restaurante Chino AlegríaAnuncioAnuncio4,1(367)               Anuncio € · Cocina asiática · Calle Illescas, 98   Anuncio       Cocina china para tomar o a domicilio   Abierto hasta la(s) 24:00          /   *                  \n",
      "------------------------------\n",
      "------------------------------\n",
      "      \"\"  Bar El RecantoAnuncioAnuncio4,3(42)               Anuncio  · Cocina latinoamericana · Calle Carballino, 20   Anuncio          Abierto hasta la(s) 2:00          /   *                  \n",
      "------------------------------\n",
      "------------------------------\n",
      "      \"\"  Sidrería PikondoAnuncioAnuncio4,1(841)               Anuncio €€ · Restaurante · 112 Ocaña   Anuncio       Bocados vascos y sidra en fino asador   Abierto hasta la(s) 24:00          /   *                  \n",
      "------------------------------\n",
      "------------------------------\n",
      "      \"\"  Restaurante Casa CoronelAnuncioAnuncio3,7(534)               Anuncio € · Restaurante · Calle de Guareña, 12   Anuncio          Abierto hasta la(s) 24:00          /   *                  \n",
      "------------------------------\n",
      "------------------------------\n",
      "      \"\"  Cafetería VienaAnuncioAnuncio3,9(102)               Anuncio €€ · Desayuno · Calle Valmojado, 231   Anuncio          Abierto hasta la(s) 23:30          /   *                  \n",
      "------------------------------\n",
      "------------------------------\n",
      "      \"\"  El PortoAnuncioAnuncio3,9(226)               Anuncio  · Restaurante · Calle de Latina, 26   Anuncio          Abierto hasta la(s) 24:00          /   *                  \n",
      "------------------------------\n",
      "------------------------------\n",
      "      \"\"  Misafir KebapAnuncioAnuncio3,8(37)               Anuncio € · Pizza · Calle de Ntra. Sra. de la Luz, 120   Anuncio          Abierto hasta la(s) 1:00          /   *                  \n",
      "------------------------------\n",
      "------------------------------\n",
      "      \"\"  Punto de EncuentroAnuncioAnuncio4,2(604)               Anuncio € · Restaurante · Calle de Maqueda, 138   Anuncio          Abierto hasta la(s) 24:00          /   *                  \n",
      "------------------------------\n",
      "------------------------------\n",
      "      \"\"  Gancho Y DirectoAnuncioAnuncio4,3(277)               Anuncio €€ · Hamburguesa · Calle de Seseña, 69   Anuncio          Abierto hasta la(s) 24:00          /   *                  \n",
      "------------------------------\n",
      "------------------------------\n",
      "      \"\"  PassaparolaAnuncioAnuncio4,5(1.038)               Anuncio € · Pizza · Calle de Guareña, 10   Anuncio       Pasta y pizza en atmósfera cinéfila   Abierto hasta la(s) 23:30          /   *                  \n",
      "------------------------------\n"
     ]
    }
   ],
   "source": [
    "for r_el in restaurants_el:\n",
    "    print(\"---\"*10)\n",
    "    print(r_el.text)\n",
    "    print(\"---\"*10)"
   ]
  },
  {
   "cell_type": "code",
   "execution_count": null,
   "metadata": {},
   "outputs": [],
   "source": [
    "\n",
    "\n",
    "driver.quit()"
   ]
  }
 ],
 "metadata": {
  "kernelspec": {
   "display_name": "Python 3",
   "language": "python",
   "name": "python3"
  },
  "language_info": {
   "codemirror_mode": {
    "name": "ipython",
    "version": 3
   },
   "file_extension": ".py",
   "mimetype": "text/x-python",
   "name": "python",
   "nbconvert_exporter": "python",
   "pygments_lexer": "ipython3",
   "version": "3.6.8"
  }
 },
 "nbformat": 4,
 "nbformat_minor": 2
}
