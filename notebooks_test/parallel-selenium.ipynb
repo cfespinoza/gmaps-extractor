{
 "cells": [
  {
   "cell_type": "code",
   "execution_count": 5,
   "metadata": {},
   "outputs": [
    {
     "name": "stderr",
     "output_type": "stream",
     "text": [
      "/home/cflores/cflores_workspace/cflores_venv/lib/python3.6/site-packages/ipykernel_launcher.py:30: DeprecationWarning: use options instead of chrome_options\n"
     ]
    },
    {
     "ename": "AttributeError",
     "evalue": "module 'asyncio' has no attribute 'all_tasks'",
     "output_type": "error",
     "traceback": [
      "\u001b[0;31m---------------------------------------------------------------------------\u001b[0m",
      "\u001b[0;31mAttributeError\u001b[0m                            Traceback (most recent call last)",
      "\u001b[0;32m<ipython-input-5-be8908f7a79e>\u001b[0m in \u001b[0;36m<module>\u001b[0;34m\u001b[0m\n\u001b[1;32m     39\u001b[0m     \u001b[0mcounter\u001b[0m \u001b[0;34m=\u001b[0m\u001b[0;34m+\u001b[0m \u001b[0;36m1\u001b[0m\u001b[0;34m\u001b[0m\u001b[0;34m\u001b[0m\u001b[0m\n\u001b[1;32m     40\u001b[0m \u001b[0;34m\u001b[0m\u001b[0m\n\u001b[0;32m---> 41\u001b[0;31m \u001b[0mloop\u001b[0m\u001b[0;34m.\u001b[0m\u001b[0mrun_until_complete\u001b[0m\u001b[0;34m(\u001b[0m\u001b[0masyncio\u001b[0m\u001b[0;34m.\u001b[0m\u001b[0mgather\u001b[0m\u001b[0;34m(\u001b[0m\u001b[0;34m*\u001b[0m\u001b[0masyncio\u001b[0m\u001b[0;34m.\u001b[0m\u001b[0mall_tasks\u001b[0m\u001b[0;34m(\u001b[0m\u001b[0mloop\u001b[0m\u001b[0;34m)\u001b[0m\u001b[0;34m)\u001b[0m\u001b[0;34m)\u001b[0m\u001b[0;34m\u001b[0m\u001b[0;34m\u001b[0m\u001b[0m\n\u001b[0m",
      "\u001b[0;31mAttributeError\u001b[0m: module 'asyncio' has no attribute 'all_tasks'"
     ]
    }
   ],
   "source": [
    "import asyncio\n",
    "from concurrent.futures.thread import ThreadPoolExecutor\n",
    "\n",
    "from selenium import webdriver\n",
    "\n",
    "executor = ThreadPoolExecutor(10)\n",
    "\n",
    "\n",
    "def scrape(url, identifier, *, loop):\n",
    "    loop.run_in_executor(executor, scraper, url, identifier)\n",
    "\n",
    "\n",
    "def scraper(url, identifier):\n",
    "    chromeOptions = webdriver.ChromeOptions()\n",
    "    chromeOptions.add_experimental_option(\"prefs\", {\"profile.managed_default_content_settings.\": 2})\n",
    "    chromeOptions.add_argument(\"--no-sandbox\")\n",
    "    chromeOptions.add_argument(\"--disable-setuid-sandbox\")\n",
    "\n",
    "    chromeOptions.add_argument(\"--remote-debugging-port=9222\")  # this\n",
    "\n",
    "    chromeOptions.add_argument(\"--disable-dev-shm-using\")\n",
    "    chromeOptions.add_argument(\"--disable-extensions\")\n",
    "    chromeOptions.add_argument(\"--disable-gpu\")\n",
    "    chromeOptions.add_argument(\"start-maximized\")\n",
    "    chromeOptions.add_argument(\"disable-infobars\")\n",
    "    chromeOptions.add_argument(\"--headless\")\n",
    "    # initialize the driver\n",
    "    driver = webdriver.Chrome(\n",
    "        executable_path=\"/home/cflores/cflores_workspace/gmaps-extractor/resources/chromedriver\",\n",
    "        chrome_options=chromeOptions)\n",
    "    driver.get(url)\n",
    "    driver.get_screenshot_as_file(\"./screenshot-{}.png\".format(identifier))\n",
    "\n",
    "\n",
    "loop = asyncio.get_event_loop()\n",
    "counter = 0\n",
    "for url in [\"https://google.com\"] * 2:\n",
    "    scrape(url, identifier=counter, loop=loop)\n",
    "    counter =+ 1\n",
    "\n",
    "loop.run_until_complete(asyncio.gather(*asyncio.all_tasks(loop)))"
   ]
  },
  {
   "cell_type": "code",
   "execution_count": null,
   "metadata": {},
   "outputs": [],
   "source": []
  }
 ],
 "metadata": {
  "kernelspec": {
   "display_name": "Python 3",
   "language": "python",
   "name": "python3"
  },
  "language_info": {
   "codemirror_mode": {
    "name": "ipython",
    "version": 3
   },
   "file_extension": ".py",
   "mimetype": "text/x-python",
   "name": "python",
   "nbconvert_exporter": "python",
   "pygments_lexer": "ipython3",
   "version": "3.6.8"
  }
 },
 "nbformat": 4,
 "nbformat_minor": 2
}
