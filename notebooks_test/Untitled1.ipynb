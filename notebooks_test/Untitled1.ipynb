{
 "cells": [
  {
   "cell_type": "code",
   "execution_count": 3,
   "metadata": {},
   "outputs": [],
   "source": [
    "import json\n",
    "import mysql.connector\n",
    "import datetime\n",
    "\n",
    "mydb = mysql.connector.connect(\n",
    "  host=\"localhost\",\n",
    "  user=\"root\",\n",
    "  passwd=\"1234\",\n",
    "  database=\"gmaps\"\n",
    ")\n",
    "mycursor = mydb.cursor()"
   ]
  },
  {
   "cell_type": "code",
   "execution_count": 4,
   "metadata": {},
   "outputs": [],
   "source": [
    "commercial_premise_comments_query = \"\"\"\n",
    "                            INSERT INTO commercial_premise_comments\n",
    "                            (commercial_premise_id, content, date)\n",
    "                            VALUES (%s, %s, %s)\n",
    "                        \"\"\""
   ]
  },
  {
   "cell_type": "code",
   "execution_count": 13,
   "metadata": {},
   "outputs": [],
   "source": [
    "content_value = \"No le pongo 5, debería ser 4 1/2, porque yo pedí vino y mi novio agua...pero cuando lo trajeron, el agua me la pusieron a mi y el vino a él 🤷🏻\\u200d♀️🤷🏻\\u200d♀️🤷🏻\\u200d♀️ Fuera de eso, todo muy bien...el sitio es acogedor, la comida está deliciosa;…\".encode('ascii', 'ignore')\n",
    "date_value = datetime.datetime.now().date()\n",
    "id_value = 1\n",
    "\n",
    "v = (id_value, content_value, date_value)\n"
   ]
  },
  {
   "cell_type": "code",
   "execution_count": 14,
   "metadata": {},
   "outputs": [],
   "source": [
    "mycursor.execute(commercial_premise_comments_query, v)"
   ]
  },
  {
   "cell_type": "code",
   "execution_count": null,
   "metadata": {},
   "outputs": [],
   "source": []
  }
 ],
 "metadata": {
  "kernelspec": {
   "display_name": "Python 3",
   "language": "python",
   "name": "python3"
  },
  "language_info": {
   "codemirror_mode": {
    "name": "ipython",
    "version": 3
   },
   "file_extension": ".py",
   "mimetype": "text/x-python",
   "name": "python",
   "nbconvert_exporter": "python",
   "pygments_lexer": "ipython3",
   "version": "3.6.8"
  }
 },
 "nbformat": 4,
 "nbformat_minor": 2
}
