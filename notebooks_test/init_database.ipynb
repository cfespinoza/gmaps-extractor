{
 "cells": [
  {
   "cell_type": "code",
   "execution_count": 1,
   "metadata": {},
   "outputs": [],
   "source": [
    "import json\n",
    "import mysql.connector"
   ]
  },
  {
   "cell_type": "code",
   "execution_count": 2,
   "metadata": {},
   "outputs": [],
   "source": [
    "db_info={\n",
    "    \"db_name\":\"gmaps\",\n",
    "    \"host\":\"localhost\",\n",
    "    \"user\":\"root\",\n",
    "    \"passwd\":\"1234\"\n",
    "}"
   ]
  },
  {
   "cell_type": "code",
   "execution_count": 7,
   "metadata": {},
   "outputs": [],
   "source": [
    "def create_database(host=None, user=None, passwd=None, db_name=None):\n",
    "    sql_create_database = 'CREATE DATABASE IF NOT EXISTS `{db_name}` DEFAULT CHARACTER SET utf8mb4 COLLATE utf8mb4_unicode_ci'\n",
    "    db = mysql.connector.connect(\n",
    "      host=host,\n",
    "      user=user,\n",
    "      passwd=passwd\n",
    "    )\n",
    "    cursor = db.cursor()\n",
    "    cursor.execute(sql_create_database.format(db_name=db_name))\n",
    "    cursor.close()\n",
    "    db.close()\n"
   ]
  },
  {
   "cell_type": "code",
   "execution_count": 10,
   "metadata": {},
   "outputs": [],
   "source": [
    "def create_schema(host=None, user=None, passwd=None, db_name=None):\n",
    "    db = mysql.connector.connect(\n",
    "      host=host,\n",
    "      user=user,\n",
    "      passwd=passwd,\n",
    "      database=db_name\n",
    "    )\n",
    "    cursor = db.cursor()\n",
    "    sql_main_table = \"\"\"\n",
    "        CREATE TABLE IF NOT EXISTS commercial_premise (\n",
    "            id INT NOT NULL AUTO_INCREMENT,\n",
    "            name VARCHAR(100) NOT NULL UNIQUE,\n",
    "            zip_code INT(5) NOT NULL,\n",
    "            coordinates VARCHAR(600),\n",
    "            telephone_number VARCHAR(25),\n",
    "            opening_hours VARCHAR(600),\n",
    "            type VARCHAR(300),\n",
    "            score FLOAT DEFAULT 0.0,\n",
    "            total_scores INT(10) DEFAULT 0,\n",
    "            price_range VARCHAR(5),\n",
    "            style VARCHAR(300),\n",
    "            address VARCHAR(300),\n",
    "            date DATE NOT NULL,\n",
    "            PRIMARY KEY(ID)\n",
    "        )\n",
    "    \"\"\"\n",
    "\n",
    "    sql_comments = \"\"\"\n",
    "        CREATE TABLE IF NOT EXISTS commercial_premise_comments (\n",
    "            id INT NOT NULL AUTO_INCREMENT,\n",
    "            commercial_premise_id INT NOT NULL,\n",
    "            content TEXT,\n",
    "            PRIMARY KEY(id),\n",
    "            INDEX prem_ind (commercial_premise_id),\n",
    "            date DATE NOT NULL,\n",
    "            FOREIGN KEY (commercial_premise_id)\n",
    "                REFERENCES commercial_premise(id)\n",
    "                ON DELETE CASCADE\n",
    "                ON UPDATE CASCADE\n",
    "        )\n",
    "    \"\"\"\n",
    "\n",
    "    sql_ocupation = \"\"\"\n",
    "        CREATE TABLE IF NOT EXISTS commercial_premise_occupation (\n",
    "            id INT NOT NULL AUTO_INCREMENT,\n",
    "            commercial_premise_id INT NOT NULL,\n",
    "            week_day VARCHAR (50),\n",
    "            time_period VARCHAR (50),\n",
    "            occupation FLOAT DEFAULT 0.0,\n",
    "            date DATE NOT NULL,\n",
    "            PRIMARY KEY(id),\n",
    "            INDEX prem_ind (commercial_premise_id),\n",
    "            FOREIGN KEY (commercial_premise_id)\n",
    "                REFERENCES commercial_premise(id)\n",
    "                ON DELETE CASCADE\n",
    "                ON UPDATE CASCADE\n",
    "        )\n",
    "    \"\"\"\n",
    "\n",
    "    sql_zip_codes_info = \"\"\"\n",
    "        CREATE TABLE IF NOT EXISTS zip_code_info (\n",
    "            id INT NOT NULL AUTO_INCREMENT,\n",
    "            zip_code INT(5) NOT NULL,\n",
    "            gmaps_url VARCHAR(600) NOT NULL,\n",
    "            gmaps_coordinates VARCHAR(100) NOT NULL,\n",
    "            PRIMARY KEY(id)\n",
    "        )\n",
    "    \"\"\"\n",
    "    try:\n",
    "        cursor.execute(\"DROP TABLE commercial_premise_occupation\")\n",
    "        cursor.execute(\"DROP TABLE commercial_premise_comments\")\n",
    "        cursor.execute(\"DROP TABLE commercial_premise\")\n",
    "    except mysql.connector.errors.ProgrammingError:\n",
    "        pass\n",
    "\n",
    "    cursor.execute(sql_main_table)\n",
    "    cursor.execute(sql_comments)\n",
    "    cursor.execute(sql_ocupation)\n",
    "    cursor.execute(sql_zip_codes_info)\n",
    "    cursor.close()\n",
    "    db.close()"
   ]
  },
  {
   "cell_type": "code",
   "execution_count": 8,
   "metadata": {},
   "outputs": [],
   "source": [
    "create_database(**db_info)"
   ]
  },
  {
   "cell_type": "code",
   "execution_count": 11,
   "metadata": {},
   "outputs": [],
   "source": [
    "create_schema(**db_info)"
   ]
  },
  {
   "cell_type": "code",
   "execution_count": null,
   "metadata": {},
   "outputs": [],
   "source": [
    "\n"
   ]
  },
  {
   "cell_type": "code",
   "execution_count": null,
   "metadata": {},
   "outputs": [],
   "source": []
  }
 ],
 "metadata": {
  "kernelspec": {
   "display_name": "Python 3",
   "language": "python",
   "name": "python3"
  },
  "language_info": {
   "codemirror_mode": {
    "name": "ipython",
    "version": 3
   },
   "file_extension": ".py",
   "mimetype": "text/x-python",
   "name": "python",
   "nbconvert_exporter": "python",
   "pygments_lexer": "ipython3",
   "version": "3.6.8"
  }
 },
 "nbformat": 4,
 "nbformat_minor": 4
}
