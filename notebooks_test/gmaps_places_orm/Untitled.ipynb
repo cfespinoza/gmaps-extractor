{
 "cells": [
  {
   "cell_type": "code",
   "execution_count": 1,
   "metadata": {},
   "outputs": [],
   "source": [
    "# inserting rows into database\n",
    "from datetime import datetime\n",
    "\n",
    "from sqlalchemy import create_engine\n",
    "from sqlalchemy import Column, Integer, String, DateTime\n",
    "from sqlalchemy.orm import sessionmaker\n",
    "from sqlalchemy.exc import SQLAlchemyError\n",
    "from sqlalchemy.ext.declarative import declarative_base\n",
    "from sqlalchemy.engine.url import URL"
   ]
  },
  {
   "cell_type": "code",
   "execution_count": 2,
   "metadata": {},
   "outputs": [],
   "source": [
    "\n",
    "db_url = {'drivername': 'postgres',\n",
    "          'username': 'postgres',\n",
    "          'password': '1234',\n",
    "          'host': 'localhost',\n",
    "          'port': 5432}\n",
    "engine = create_engine(URL(**db_url))"
   ]
  },
  {
   "cell_type": "code",
   "execution_count": 4,
   "metadata": {},
   "outputs": [],
   "source": []
  },
  {
   "cell_type": "code",
   "execution_count": null,
   "metadata": {},
   "outputs": [],
   "source": [
    "execution = {'a': 5566, 'b': 9527, 'c': 183}\n",
    "try:\n",
    "    for _key, _val in data.items():\n",
    "        row = TestTable(key=_key, val=_val)\n",
    "        session.add(row)\n",
    "    session.commit()\n",
    "except SQLAlchemyError as e:\n",
    "    print(e)\n",
    "finally:\n",
    "    session.close()"
   ]
  }
 ],
 "metadata": {
  "kernelspec": {
   "display_name": "Python 3",
   "language": "python",
   "name": "python3"
  },
  "language_info": {
   "codemirror_mode": {
    "name": "ipython",
    "version": 3
   },
   "file_extension": ".py",
   "mimetype": "text/x-python",
   "name": "python",
   "nbconvert_exporter": "python",
   "pygments_lexer": "ipython3",
   "version": "3.6.9"
  }
 },
 "nbformat": 4,
 "nbformat_minor": 4
}
