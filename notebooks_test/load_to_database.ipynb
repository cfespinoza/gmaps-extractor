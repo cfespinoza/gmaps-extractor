{
 "cells": [
  {
   "cell_type": "code",
   "execution_count": 1,
   "metadata": {},
   "outputs": [],
   "source": [
    "import json\n",
    "import mysql.connector"
   ]
  },
  {
   "cell_type": "code",
   "execution_count": 2,
   "metadata": {},
   "outputs": [
    {
     "name": "stdout",
     "output_type": "stream",
     "text": [
      "<mysql.connector.connection.MySQLConnection object at 0x11ca02b50>\n"
     ]
    }
   ],
   "source": [
    "\n",
    "\n",
    "mydb = mysql.connector.connect(\n",
    "  host=\"database-1.chgxrutzqyvi.eu-central-1.rds.amazonaws.com\",\n",
    "  user=\"gmaps\",\n",
    "  passwd=\"oIc1burIsKZYLRxKjZPN\",\n",
    "  database=\"innodb\"\n",
    ")\n",
    "\n",
    "\n",
    "mycursor = mydb.cursor()\n",
    "print(mydb)"
   ]
  },
  {
   "cell_type": "markdown",
   "metadata": {},
   "source": [
    "# Create tables"
   ]
  },
  {
   "cell_type": "code",
   "execution_count": 3,
   "metadata": {},
   "outputs": [
    {
     "data": {
      "text/plain": [
       "[('commercial_premise',),\n",
       " ('commercial_premise_comments',),\n",
       " ('commercial_premise_occupation',)]"
      ]
     },
     "execution_count": 3,
     "metadata": {},
     "output_type": "execute_result"
    }
   ],
   "source": [
    "# Main table\n",
    "sql_main_table = \"\"\"\n",
    "    CREATE TABLE IF NOT EXISTS commercial_premise (\n",
    "        id INT NOT NULL AUTO_INCREMENT,\n",
    "        name VARCHAR(100) NOT NULL,\n",
    "        zip_code INT(5) NOT NULL,\n",
    "        type VARCHAR(20) NOT NULL,\n",
    "        score FLOAT(2) DEFAULT 0.0,\n",
    "        total_scores INT(10) DEFAULT 0,\n",
    "        price_range VARCHAR(5),\n",
    "        style VARCHAR(20),\n",
    "        address VARCHAR(40) NOT NULL,\n",
    "        PRIMARY KEY(ID)\n",
    "    )\n",
    "\"\"\"\n",
    "\n",
    "sql_comments = \"\"\"\n",
    "    CREATE TABLE IF NOT EXISTS commercial_premise_comments (\n",
    "        id INT NOT NULL AUTO_INCREMENT,\n",
    "        commercial_premise_id INT NOT NULL,\n",
    "        content VARCHAR(200),\n",
    "        PRIMARY KEY(id),\n",
    "        INDEX prem_ind (commercial_premise_id),\n",
    "        FOREIGN KEY (commercial_premise_id)\n",
    "            REFERENCES commercial_premise(id)\n",
    "            ON DELETE CASCADE\n",
    "            ON UPDATE CASCADE\n",
    "    )\n",
    "\"\"\"\n",
    "\n",
    "sql_ocupation = \"\"\"\n",
    "    CREATE TABLE IF NOT EXISTS commercial_premise_occupation (\n",
    "        id INT NOT NULL AUTO_INCREMENT,\n",
    "        commercial_premise_id INT NOT NULL,\n",
    "        week_day VARCHAR(9) NOT NULL,\n",
    "        H00_01 FLOAT(2) DEFAULT 0.0,\n",
    "        H01_02 FLOAT(2) DEFAULT 0.0,\n",
    "        H02_03 FLOAT(2) DEFAULT 0.0,\n",
    "        H03_04 FLOAT(2) DEFAULT 0.0,\n",
    "        H04_05 FLOAT(2) DEFAULT 0.0,\n",
    "        H05_06 FLOAT(2) DEFAULT 0.0,\n",
    "        H06_07 FLOAT(2) DEFAULT 0.0,\n",
    "        H07_08 FLOAT(2) DEFAULT 0.0,\n",
    "        H08_09 FLOAT(2) DEFAULT 0.0,\n",
    "        H09_10 FLOAT(2) DEFAULT 0.0,\n",
    "        H10_11 FLOAT(2) DEFAULT 0.0,\n",
    "        H11_12 FLOAT(2) DEFAULT 0.0,\n",
    "        H12_13 FLOAT(2) DEFAULT 0.0,\n",
    "        H13_14 FLOAT(2) DEFAULT 0.0,\n",
    "        H14_15 FLOAT(2) DEFAULT 0.0,\n",
    "        H15_16 FLOAT(2) DEFAULT 0.0,\n",
    "        H16_17 FLOAT(2) DEFAULT 0.0,\n",
    "        H17_18 FLOAT(2) DEFAULT 0.0,\n",
    "        H18_19 FLOAT(2) DEFAULT 0.0,\n",
    "        H19_20 FLOAT(2) DEFAULT 0.0,\n",
    "        H20_21 FLOAT(2) DEFAULT 0.0,\n",
    "        H21_22 FLOAT(2) DEFAULT 0.0,\n",
    "        H22_23 FLOAT(2) DEFAULT 0.0,\n",
    "        H23_24 FLOAT(2) DEFAULT 0.0,\n",
    "        PRIMARY KEY(id),\n",
    "        INDEX prem_ind (commercial_premise_id),\n",
    "        FOREIGN KEY (commercial_premise_id)\n",
    "            REFERENCES commercial_premise(id)\n",
    "            ON DELETE CASCADE\n",
    "            ON UPDATE CASCADE\n",
    "    )\n",
    "\"\"\"\n",
    "mycursor.execute(sql_main_table)\n",
    "mycursor.execute(sql_comments)\n",
    "mycursor.execute(sql_ocupation)\n",
    "mycursor.execute(\"SHOW TABLES\")\n",
    "mycursor.fetchall()"
   ]
  },
  {
   "cell_type": "code",
   "execution_count": 4,
   "metadata": {
    "collapsed": true,
    "jupyter": {
     "outputs_hidden": true
    }
   },
   "outputs": [
    {
     "name": "stdout",
     "output_type": "stream",
     "text": [
      "[('id', 'int(11)', 'NO', 'PRI', None, 'auto_increment'),\n",
      " ('name', 'varchar(100)', 'NO', '', None, ''),\n",
      " ('zip_code', 'int(5)', 'NO', '', None, ''),\n",
      " ('type', 'varchar(20)', 'NO', '', None, ''),\n",
      " ('score', 'float', 'YES', '', '0', ''),\n",
      " ('total_scores', 'int(10)', 'YES', '', '0', ''),\n",
      " ('price_range', 'varchar(5)', 'YES', '', None, ''),\n",
      " ('style', 'varchar(20)', 'YES', '', None, ''),\n",
      " ('address', 'varchar(40)', 'NO', '', None, '')]\n",
      "[('id', 'int(11)', 'NO', 'PRI', None, 'auto_increment'),\n",
      " ('commercial_premise_id', 'int(11)', 'NO', 'MUL', None, ''),\n",
      " ('content', 'varchar(200)', 'YES', '', None, '')]\n",
      "[('id', 'int(11)', 'NO', 'PRI', None, 'auto_increment'),\n",
      " ('commercial_premise_id', 'int(11)', 'NO', 'MUL', None, ''),\n",
      " ('week_day', 'varchar(9)', 'NO', '', None, ''),\n",
      " ('H00_01', 'float', 'YES', '', '0', ''),\n",
      " ('H01_02', 'float', 'YES', '', '0', ''),\n",
      " ('H02_03', 'float', 'YES', '', '0', ''),\n",
      " ('H03_04', 'float', 'YES', '', '0', ''),\n",
      " ('H04_05', 'float', 'YES', '', '0', ''),\n",
      " ('H05_06', 'float', 'YES', '', '0', ''),\n",
      " ('H06_07', 'float', 'YES', '', '0', ''),\n",
      " ('H07_08', 'float', 'YES', '', '0', ''),\n",
      " ('H08_09', 'float', 'YES', '', '0', ''),\n",
      " ('H09_10', 'float', 'YES', '', '0', ''),\n",
      " ('H10_11', 'float', 'YES', '', '0', ''),\n",
      " ('H11_12', 'float', 'YES', '', '0', ''),\n",
      " ('H12_13', 'float', 'YES', '', '0', ''),\n",
      " ('H13_14', 'float', 'YES', '', '0', ''),\n",
      " ('H14_15', 'float', 'YES', '', '0', ''),\n",
      " ('H15_16', 'float', 'YES', '', '0', ''),\n",
      " ('H16_17', 'float', 'YES', '', '0', ''),\n",
      " ('H17_18', 'float', 'YES', '', '0', ''),\n",
      " ('H18_19', 'float', 'YES', '', '0', ''),\n",
      " ('H19_20', 'float', 'YES', '', '0', ''),\n",
      " ('H20_21', 'float', 'YES', '', '0', ''),\n",
      " ('H21_22', 'float', 'YES', '', '0', ''),\n",
      " ('H22_23', 'float', 'YES', '', '0', ''),\n",
      " ('H23_24', 'float', 'YES', '', '0', '')]\n"
     ]
    }
   ],
   "source": [
    "from pprint import pprint\n",
    "sql1 = \"DESCRIBE commercial_premise\"\n",
    "sql2 = \"DESCRIBE commercial_premise_comments\"\n",
    "sql3 = \"DESCRIBE commercial_premise_occupation\"\n",
    "mycursor.execute(sql1)\n",
    "pprint(mycursor.fetchall())\n",
    "mycursor.execute(sql2)\n",
    "pprint(mycursor.fetchall())\n",
    "mycursor.execute(sql3)\n",
    "pprint(mycursor.fetchall())\n",
    "# sql2 = \"DESCRIBE commercial_premise_comments\"\n",
    "# mycursor.execute(sql)\n",
    "# print(mycursor.fetchall())"
   ]
  },
  {
   "cell_type": "markdown",
   "metadata": {},
   "source": [
    "# Read data"
   ]
  },
  {
   "cell_type": "code",
   "execution_count": 4,
   "metadata": {},
   "outputs": [],
   "source": [
    "with open(\"../data.json\", \"r\") as file:\n",
    "    sample = json.loads(file.read())"
   ]
  },
  {
   "cell_type": "code",
   "execution_count": 5,
   "metadata": {},
   "outputs": [
    {
     "data": {
      "text/plain": [
       "dict_keys(['AHOAN', 'Bar Restaurante Víctor', 'Huevos Y Tortilla', 'con B de bilbao', 'Restaurante Lurrina', 'Restaurante-Cocktail Yamike', 'Café Bar Bilbao'])"
      ]
     },
     "execution_count": 5,
     "metadata": {},
     "output_type": "execute_result"
    }
   ],
   "source": [
    "sample.keys()"
   ]
  },
  {
   "cell_type": "markdown",
   "metadata": {},
   "source": [
    "# Format data"
   ]
  },
  {
   "cell_type": "code",
   "execution_count": 6,
   "metadata": {},
   "outputs": [],
   "source": [
    "def decompose_occupancy_data(occupancy_levels):\n",
    "    occupancy = {\n",
    "        \"lunes\": {},\n",
    "        \"martes\": {},\n",
    "        \"miercoles\": {},\n",
    "        \"jueves\": {},\n",
    "        \"viernes\": {},\n",
    "        \"sabado\": {},\n",
    "        \"domingo\": {}\n",
    "    }\n",
    "    for week_day, occupancy_levels in occupancy_levels.items():\n",
    "        if(occupancy_levels is not None):\n",
    "            for occupancy_level in occupancy_levels:\n",
    "                if(occupancy_level is not None):\n",
    "                    try:\n",
    "                        base = occupancy_level.split(\":\")[1:]\n",
    "                        occupancy[week_day].update({\n",
    "                            base[1].split(\")\")[0].strip(): float(base[0].split(\"\\xa0%\")[0])\n",
    "                        })\n",
    "                    except:\n",
    "                        pass\n",
    "    return occupancy\n",
    "        "
   ]
  },
  {
   "cell_type": "code",
   "execution_count": 7,
   "metadata": {},
   "outputs": [],
   "source": [
    "def write_to_db(element, zip_code, premise_type, mydb, mycursor):\n",
    "    \n",
    "    #Store element\n",
    "    compressed_address = [item.strip() for item in element[\"address\"].split(\"·\")]\n",
    "    if(len(compressed_address) == 3):\n",
    "        price_range = compressed_address[0]\n",
    "        style = compressed_address[1]\n",
    "        address = compressed_address[2]\n",
    "    else:\n",
    "        price_range = None\n",
    "        style = compressed_address[0]\n",
    "        address = compressed_address[1]\n",
    "        \n",
    "    sql = \"\"\"\n",
    "        INSERT INTO commercial_premise \n",
    "            (name, zip_code, type, score, total_scores, price_range, style, address) \n",
    "            VALUES (%s, %s, %s, %s, %s, %s, %s, %s)\n",
    "        \"\"\"\n",
    "    values = (\n",
    "        element[\"name\"],\n",
    "        zip_code,\n",
    "        premise_type,\n",
    "        element[\"score\"],\n",
    "        element[\"total_scores\"],\n",
    "        price_range,\n",
    "        style,\n",
    "        address\n",
    "    )\n",
    "    mycursor.execute(sql, values)\n",
    "    mydb.commit()\n",
    "    element_id = mycursor.lastrowid\n",
    "    #Store comments\n",
    "    for comment in element[\"comments\"]:\n",
    "        sql = \"\"\"\n",
    "            INSERT INTO commercial_premise_comments\n",
    "            (commercial_premise_id, content)\n",
    "            VALUES (%s, %s)\n",
    "        \"\"\"\n",
    "        values = (\n",
    "            element_id, comment\n",
    "        )\n",
    "        mycursor.execute(sql, values)\n",
    "        mydb.commit()\n",
    "    #Store occupancy data\n",
    "    sql = \"\"\"\n",
    "        INSERT INTO commercial_premise_occupation\n",
    "        (\n",
    "            commercial_premise_id, week_day,\n",
    "            H00_01, H01_02, H02_03, H03_04, H04_05, H05_06, H06_07, H07_08, H08_09, H09_10, H10_11, H11_12,\n",
    "            H12_13, H13_14, H14_15, H15_16, H16_17, H17_18, H18_19, H19_20, H20_21, H21_22, H22_23, H23_24\n",
    "        )\n",
    "        VALUES (%s,%s,%s,%s,%s,%s,%s,%s,%s,%s,%s,%s,%s,%s,%s,%s,%s,%s,%s,%s,%s,%s,%s,%s,%s,%s)\n",
    "    \"\"\"\n",
    "    for week_day, content in decompose_occupancy_data(element[\"occupancy\"]).items():\n",
    "        if content is not None and content != {}:\n",
    "            values = (\n",
    "                element_id, week_day,\n",
    "                content[\"24\"], content[\"01\"], content[\"02\"], content[\"03\"], content[\"04\"],\n",
    "                content[\"05\"], content[\"06\"], content[\"07\"], content[\"08\"], content[\"09\"],\n",
    "                content[\"10\"], content[\"11\"], content[\"12\"], content[\"13\"], content[\"14\"],\n",
    "                content[\"15\"], content[\"16\"], content[\"17\"], content[\"18\"], content[\"19\"],\n",
    "                content[\"20\"], content[\"21\"], content[\"22\"], content[\"23\"]\n",
    "            )\n",
    "            mycursor.execute(sql, values)\n",
    "            mydb.commit()"
   ]
  },
  {
   "cell_type": "code",
   "execution_count": 8,
   "metadata": {},
   "outputs": [
    {
     "name": "stdout",
     "output_type": "stream",
     "text": [
      "AHOAN\n",
      "Bar Restaurante Víctor\n",
      "Huevos Y Tortilla\n",
      "con B de bilbao\n",
      "Restaurante Lurrina\n",
      "Restaurante-Cocktail Yamike\n",
      "Café Bar Bilbao\n"
     ]
    }
   ],
   "source": [
    "for name, element in sample.items():\n",
    "    print(name)\n",
    "    write_to_db(element, \"48005\", \"restaurante\", mydb, mycursor)"
   ]
  },
  {
   "cell_type": "code",
   "execution_count": null,
   "metadata": {},
   "outputs": [],
   "source": []
  },
  {
   "cell_type": "code",
   "execution_count": null,
   "metadata": {},
   "outputs": [],
   "source": []
  }
 ],
 "metadata": {
  "kernelspec": {
   "display_name": "Python 3",
   "language": "python",
   "name": "python3"
  },
  "language_info": {
   "codemirror_mode": {
    "name": "ipython",
    "version": 3
   },
   "file_extension": ".py",
   "mimetype": "text/x-python",
   "name": "python",
   "nbconvert_exporter": "python",
   "pygments_lexer": "ipython3",
   "version": "3.7.6"
  }
 },
 "nbformat": 4,
 "nbformat_minor": 4
}
