{
 "cells": [
  {
   "cell_type": "code",
   "execution_count": 1,
   "metadata": {},
   "outputs": [
    {
     "name": "stderr",
     "output_type": "stream",
     "text": [
      "/Users/Mat/anaconda3/lib/python3.7/site-packages/psycopg2/__init__.py:144: UserWarning: The psycopg2 wheel package will be renamed from release 2.8; in order to keep installing from binary please use \"pip install psycopg2-binary\" instead. For details see: <http://initd.org/psycopg/docs/install.html#binary-install-from-pypi>.\n",
      "  \"\"\")\n"
     ]
    }
   ],
   "source": [
    "import json\n",
    "import mysql.connector\n",
    "import psycopg2\n"
   ]
  },
  {
   "cell_type": "code",
   "execution_count": 2,
   "metadata": {},
   "outputs": [],
   "source": [
    "mydb = psycopg2.connect(\n",
    "  host=\"127.0.0.1\",\n",
    "  port=\"32769\",\n",
    "  user=\"postgres\",\n",
    "  password=\"mysecretpassword\",\n",
    "  dbname=\"innodb\"\n",
    ")\n",
    "\n",
    "\n",
    "mycursor = mydb.cursor()"
   ]
  },
  {
   "cell_type": "code",
   "execution_count": 3,
   "metadata": {},
   "outputs": [],
   "source": [
    "# mycursor.execute(\"SELECT id FROM commercial_premise WHERE name = %s\", (\"AHOAN\",))\n",
    "# records = mycursor.fetchone()"
   ]
  },
  {
   "cell_type": "markdown",
   "metadata": {},
   "source": [
    "# Create tables"
   ]
  },
  {
   "cell_type": "code",
   "execution_count": 4,
   "metadata": {},
   "outputs": [
    {
     "data": {
      "text/plain": [
       "[(17213,\n",
       "  'public',\n",
       "  'commercial_premise',\n",
       "  3,\n",
       "  0,\n",
       "  14,\n",
       "  0,\n",
       "  0,\n",
       "  0,\n",
       "  0,\n",
       "  0,\n",
       "  0,\n",
       "  0,\n",
       "  0,\n",
       "  None,\n",
       "  None,\n",
       "  None,\n",
       "  None,\n",
       "  0,\n",
       "  0,\n",
       "  0,\n",
       "  0),\n",
       " (17241,\n",
       "  'public',\n",
       "  'commercial_premise_occupation',\n",
       "  1,\n",
       "  0,\n",
       "  0,\n",
       "  0,\n",
       "  0,\n",
       "  0,\n",
       "  0,\n",
       "  0,\n",
       "  0,\n",
       "  0,\n",
       "  0,\n",
       "  None,\n",
       "  None,\n",
       "  None,\n",
       "  None,\n",
       "  0,\n",
       "  0,\n",
       "  0,\n",
       "  0),\n",
       " (17225,\n",
       "  'public',\n",
       "  'commercial_premise_comments',\n",
       "  1,\n",
       "  0,\n",
       "  0,\n",
       "  0,\n",
       "  0,\n",
       "  0,\n",
       "  0,\n",
       "  0,\n",
       "  0,\n",
       "  0,\n",
       "  0,\n",
       "  None,\n",
       "  None,\n",
       "  None,\n",
       "  None,\n",
       "  0,\n",
       "  0,\n",
       "  0,\n",
       "  0)]"
      ]
     },
     "execution_count": 4,
     "metadata": {},
     "output_type": "execute_result"
    }
   ],
   "source": [
    "# Main table\n",
    "sql_main_table = \"\"\"\n",
    "    CREATE TABLE IF NOT EXISTS commercial_premise (\n",
    "        id SERIAL,\n",
    "        name VARCHAR(100) NOT NULL UNIQUE,\n",
    "        zip_code INT NOT NULL,\n",
    "        coordinates VARCHAR(25),\n",
    "        telephone_number VARCHAR(25),\n",
    "        opening_hours VARCHAR(100),\n",
    "        type VARCHAR(20) NOT NULL,\n",
    "        score FLOAT(2) DEFAULT 0.0,\n",
    "        total_scores INT DEFAULT 0,\n",
    "        price_range VARCHAR(5),\n",
    "        style VARCHAR(20),\n",
    "        address VARCHAR(40) NOT NULL,\n",
    "        date DATE NOT NULL,\n",
    "        PRIMARY KEY(ID)\n",
    "    )\n",
    "\"\"\"\n",
    "\n",
    "sql_comments = \"\"\"\n",
    "    CREATE TABLE IF NOT EXISTS commercial_premise_comments (\n",
    "        id SERIAL,\n",
    "        commercial_premise_id INT NOT NULL,\n",
    "        content VARCHAR(600),\n",
    "        date DATE NOT NULL,\n",
    "        PRIMARY KEY(id),\n",
    "        FOREIGN KEY (commercial_premise_id)\n",
    "            REFERENCES commercial_premise(id)\n",
    "            ON DELETE CASCADE\n",
    "            ON UPDATE CASCADE\n",
    "    )\n",
    "\"\"\"\n",
    "\n",
    "sql_ocupation = \"\"\"\n",
    "    CREATE TABLE IF NOT EXISTS commercial_premise_occupation (\n",
    "        id SERIAL,\n",
    "        commercial_premise_id INT NOT NULL,\n",
    "        week_day VARCHAR(50) NOT NULL,\n",
    "        time_period CHAR(50) NOT NULL,\n",
    "        occupation FLOAT DEFAULT 0.0,\n",
    "        date DATE NOT NULL,\n",
    "        PRIMARY KEY(id),\n",
    "        FOREIGN KEY (commercial_premise_id)\n",
    "            REFERENCES commercial_premise(id)\n",
    "            ON DELETE CASCADE\n",
    "            ON UPDATE CASCADE\n",
    "    )\n",
    "\"\"\"\n",
    "\n",
    "# mycursor.execute(\"DROP TABLE commercial_premise_occupation\")\n",
    "# mycursor.execute(\"DROP TABLE commercial_premise_comments\")\n",
    "# mycursor.execute(\"DROP TABLE commercial_premise\")\n",
    "\n",
    "mycursor.execute(sql_main_table)\n",
    "mycursor.execute(sql_comments)\n",
    "mycursor.execute(sql_ocupation)\n",
    "mydb.commit()\n",
    "mycursor.execute(\"SELECT * FROM pg_stat_user_tables;\")\n",
    "mycursor.fetchall()"
   ]
  },
  {
   "cell_type": "code",
   "execution_count": 5,
   "metadata": {},
   "outputs": [],
   "source": [
    "# from pprint import pprint\n",
    "# sql1 = \"DESCRIBE commercial_premise\"\n",
    "# sql2 = \"DESCRIBE commercial_premise_comments\"\n",
    "# sql3 = \"DESCRIBE commercial_premise_occupation\"\n",
    "# mycursor.execute(sql1)\n",
    "# pprint(mycursor.fetchall())\n",
    "# mycursor.execute(sql2)\n",
    "# pprint(mycursor.fetchall())\n",
    "# mycursor.execute(sql3)\n",
    "# pprint(mycursor.fetchall())"
   ]
  },
  {
   "cell_type": "markdown",
   "metadata": {},
   "source": [
    "# Read data"
   ]
  },
  {
   "cell_type": "code",
   "execution_count": 6,
   "metadata": {},
   "outputs": [],
   "source": [
    "with open(\"../data.json_OLD\", \"r\") as file:\n",
    "    sample = json.loads(file.read())"
   ]
  },
  {
   "cell_type": "code",
   "execution_count": 7,
   "metadata": {},
   "outputs": [
    {
     "data": {
      "text/plain": [
       "dict_keys(['AHOAN', 'Bar Restaurante Víctor', 'Huevos Y Tortilla', 'con B de bilbao', 'Restaurante Lurrina', 'Restaurante-Cocktail Yamike', 'Café Bar Bilbao'])"
      ]
     },
     "execution_count": 7,
     "metadata": {},
     "output_type": "execute_result"
    }
   ],
   "source": [
    "sample.keys()"
   ]
  },
  {
   "cell_type": "code",
   "execution_count": 8,
   "metadata": {},
   "outputs": [
    {
     "data": {
      "text/plain": [
       "7"
      ]
     },
     "execution_count": 8,
     "metadata": {},
     "output_type": "execute_result"
    }
   ],
   "source": [
    "len(sample.keys())"
   ]
  },
  {
   "cell_type": "markdown",
   "metadata": {},
   "source": [
    "# Format data"
   ]
  },
  {
   "cell_type": "code",
   "execution_count": 9,
   "metadata": {},
   "outputs": [],
   "source": [
    "def decompose_occupancy_data(occupancy_levels):\n",
    "    occupancy = {\n",
    "        \"lunes\": {},\n",
    "        \"martes\": {},\n",
    "        \"miercoles\": {},\n",
    "        \"jueves\": {},\n",
    "        \"viernes\": {},\n",
    "        \"sabado\": {},\n",
    "        \"domingo\": {}\n",
    "    }\n",
    "    for week_day, occupancy_levels in occupancy_levels.items():\n",
    "        if(occupancy_levels is not None):\n",
    "            for occupancy_level in occupancy_levels:\n",
    "                if(occupancy_level is not None):\n",
    "                    try:\n",
    "                        base = occupancy_level.split(\":\")[1:]\n",
    "                        occupancy[week_day].update({\n",
    "                            base[1].split(\")\")[0].strip(): float(base[0].split(\"\\xa0%\")[0])\n",
    "                        })\n",
    "                    except:\n",
    "                        pass\n",
    "    return occupancy\n",
    "        "
   ]
  },
  {
   "cell_type": "code",
   "execution_count": 10,
   "metadata": {},
   "outputs": [],
   "source": [
    "def write_to_db(element, zip_code, premise_type, mydb, mycursor, date):\n",
    "\n",
    "    mycursor.execute(\"SELECT id FROM commercial_premise WHERE name = %s\", (element[\"name\"],))\n",
    "    records = mycursor.fetchone()\n",
    "    if(records is None):\n",
    "        #Store element\n",
    "        if element[\"address\"] is not None:\n",
    "            compressed_address = [item.strip() for item in element[\"address\"].split(\"·\")]\n",
    "            if(len(compressed_address) == 3):\n",
    "                price_range = compressed_address[0]\n",
    "                style = compressed_address[1]\n",
    "                address = compressed_address[2]\n",
    "            else:\n",
    "                price_range = None\n",
    "                style = compressed_address[0]\n",
    "                address = compressed_address[1]\n",
    "        else:\n",
    "            price_range = None\n",
    "            style = None\n",
    "            address = None\n",
    "        sql = \"\"\"\n",
    "            INSERT INTO commercial_premise \n",
    "                (name, zip_code, coordinates, telephone_number, openig_hours, type, score, total_scores, price_range, style, address, date) \n",
    "                VALUES (%s, %s, %s, %s, %s, %s, %s, %s, %s, %s, %s, %s)\n",
    "            \"\"\"\n",
    "        keys = element.keys()\n",
    "        values = (\n",
    "            element[\"name\"],\n",
    "            zip_code,\n",
    "            element[\"coordinates\"] if \"coordinates\" in keys else None,\n",
    "            element[\"telephone_number\"] if \"telephone_number\" in keys else None,\n",
    "            \",\".join(element[\"opennig_hours\"]) if \"opennig_hours\" in keys and element[\"opennig_hours\"] is not None else None,\n",
    "            premise_type,\n",
    "            element[\"score\"],\n",
    "            element[\"total_scores\"],\n",
    "            price_range,\n",
    "            style,\n",
    "            address,\n",
    "            date\n",
    "        )\n",
    "        mycursor.execute(sql, values)\n",
    "        mydb.commit()\n",
    "        element_id = mycursor.lastrowid\n",
    "    else:\n",
    "        element_id = records[0]\n",
    "    #Store comments\n",
    "    if(\"comments\" in keys):\n",
    "        sql = \"\"\"\n",
    "                INSERT INTO commercial_premise_comments\n",
    "                (commercial_premise_id, content, date)\n",
    "                VALUES (%s, %s, %s)\n",
    "            \"\"\"\n",
    "        values = []\n",
    "        for comment in element[\"comments\"]:\n",
    "            values.append((element_id, comment, date))\n",
    "        mycursor.executemany(sql, values)\n",
    "    #Store occupancy data\n",
    "    sql = \"\"\"\n",
    "        INSERT INTO commercial_premise_occupation\n",
    "        (\n",
    "            commercial_premise_id, week_day, time_period, occupation, date\n",
    "        )\n",
    "        VALUES (%s, %s, %s, %s, %s)\n",
    "    \"\"\"\n",
    "    if(\"occupancy\" in keys):\n",
    "        values = []\n",
    "        for week_day, content in decompose_occupancy_data(element[\"occupancy\"]).items():\n",
    "            if content is not None and content != {}:\n",
    "                for key,value in content.items():\n",
    "                    values.append((element_id, week_day, key, value, date))\n",
    "        mycursor.executemany(sql, values)\n",
    "    mydb.commit()"
   ]
  },
  {
   "cell_type": "code",
   "execution_count": 11,
   "metadata": {},
   "outputs": [],
   "source": [
    "import time"
   ]
  },
  {
   "cell_type": "code",
   "execution_count": 12,
   "metadata": {},
   "outputs": [],
   "source": [
    "from datetime import datetime"
   ]
  },
  {
   "cell_type": "code",
   "execution_count": 13,
   "metadata": {},
   "outputs": [
    {
     "name": "stdout",
     "output_type": "stream",
     "text": [
      "AHOAN\n",
      "ERROR  AHOAN column \"openig_hours\" of relation \"commercial_premise\" does not exist\n",
      "LINE 3: ...  (name, zip_code, coordinates, telephone_number, openig_hou...\n",
      "                                                             ^\n",
      "\n",
      "Bar Restaurante Víctor\n",
      "ERROR  Bar Restaurante Víctor column \"openig_hours\" of relation \"commercial_premise\" does not exist\n",
      "LINE 3: ...  (name, zip_code, coordinates, telephone_number, openig_hou...\n",
      "                                                             ^\n",
      "\n",
      "Huevos Y Tortilla\n",
      "ERROR  Huevos Y Tortilla column \"openig_hours\" of relation \"commercial_premise\" does not exist\n",
      "LINE 3: ...  (name, zip_code, coordinates, telephone_number, openig_hou...\n",
      "                                                             ^\n",
      "\n",
      "con B de bilbao\n",
      "ERROR  con B de bilbao column \"openig_hours\" of relation \"commercial_premise\" does not exist\n",
      "LINE 3: ...  (name, zip_code, coordinates, telephone_number, openig_hou...\n",
      "                                                             ^\n",
      "\n",
      "Restaurante Lurrina\n",
      "ERROR  Restaurante Lurrina column \"openig_hours\" of relation \"commercial_premise\" does not exist\n",
      "LINE 3: ...  (name, zip_code, coordinates, telephone_number, openig_hou...\n",
      "                                                             ^\n",
      "\n",
      "Restaurante-Cocktail Yamike\n",
      "ERROR  Restaurante-Cocktail Yamike column \"openig_hours\" of relation \"commercial_premise\" does not exist\n",
      "LINE 3: ...  (name, zip_code, coordinates, telephone_number, openig_hou...\n",
      "                                                             ^\n",
      "\n",
      "Café Bar Bilbao\n",
      "ERROR  Café Bar Bilbao column \"openig_hours\" of relation \"commercial_premise\" does not exist\n",
      "LINE 3: ...  (name, zip_code, coordinates, telephone_number, openig_hou...\n",
      "                                                             ^\n",
      "\n",
      "0.04127001762390137\n"
     ]
    }
   ],
   "source": [
    "t1 = time.time()\n",
    "for name, element in sample.items():\n",
    "    print(name)\n",
    "    try:\n",
    "        write_to_db(element, \"48005\", \"restaurante\", mydb, mycursor, datetime.now().date())\n",
    "    except Exception as e:\n",
    "        mydb.rollback()\n",
    "        print(\"ERROR \", name, e)\n",
    "t2 = time.time()\n",
    "print(t2-t1)"
   ]
  },
  {
   "cell_type": "code",
   "execution_count": null,
   "metadata": {},
   "outputs": [],
   "source": [
    "'AHOAN', 'Bar Restaurante Víctor', 'Huevos Y Tortilla', 'con B de bilbao', 'Restaurante Lurrina', 'Restaurante-Cocktail Yamike', 'Café Bar Bilbao'"
   ]
  },
  {
   "cell_type": "code",
   "execution_count": 18,
   "metadata": {},
   "outputs": [
    {
     "data": {
      "text/plain": [
       "datetime.date(2020, 4, 8)"
      ]
     },
     "execution_count": 18,
     "metadata": {},
     "output_type": "execute_result"
    }
   ],
   "source": [
    "datetime.now().date()"
   ]
  },
  {
   "cell_type": "code",
   "execution_count": 15,
   "metadata": {},
   "outputs": [
    {
     "ename": "InternalError",
     "evalue": "current transaction is aborted, commands ignored until end of transaction block\n",
     "output_type": "error",
     "traceback": [
      "\u001b[0;31m---------------------------------------------------------------------------\u001b[0m",
      "\u001b[0;31mInternalError\u001b[0m                             Traceback (most recent call last)",
      "\u001b[0;32m<ipython-input-15-599cdec6116c>\u001b[0m in \u001b[0;36m<module>\u001b[0;34m\u001b[0m\n\u001b[0;32m----> 1\u001b[0;31m \u001b[0mmycursor\u001b[0m\u001b[0;34m.\u001b[0m\u001b[0mexecute\u001b[0m\u001b[0;34m(\u001b[0m\u001b[0;34m\"SELECT * FROM commercial_premise;\"\u001b[0m\u001b[0;34m)\u001b[0m\u001b[0;34m\u001b[0m\u001b[0;34m\u001b[0m\u001b[0m\n\u001b[0m\u001b[1;32m      2\u001b[0m \u001b[0mmycursor\u001b[0m\u001b[0;34m.\u001b[0m\u001b[0mfetchall\u001b[0m\u001b[0;34m(\u001b[0m\u001b[0;34m)\u001b[0m\u001b[0;34m\u001b[0m\u001b[0;34m\u001b[0m\u001b[0m\n",
      "\u001b[0;31mInternalError\u001b[0m: current transaction is aborted, commands ignored until end of transaction block\n"
     ]
    }
   ],
   "source": [
    "mycursor.execute(\"SELECT * FROM commercial_premise;\")\n",
    "mycursor.fetchall()"
   ]
  },
  {
   "cell_type": "code",
   "execution_count": null,
   "metadata": {},
   "outputs": [],
   "source": []
  }
 ],
 "metadata": {
  "kernelspec": {
   "display_name": "Python 3",
   "language": "python",
   "name": "python3"
  },
  "language_info": {
   "codemirror_mode": {
    "name": "ipython",
    "version": 3
   },
   "file_extension": ".py",
   "mimetype": "text/x-python",
   "name": "python",
   "nbconvert_exporter": "python",
   "pygments_lexer": "ipython3",
   "version": "3.7.6"
  }
 },
 "nbformat": 4,
 "nbformat_minor": 4
}
